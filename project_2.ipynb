{
 "cells": [
  {
   "cell_type": "code",
   "execution_count": 2,
   "id": "5a8f83ce-1f60-4754-a422-50fe3199af7f",
   "metadata": {},
   "outputs": [
    {
     "name": "stdout",
     "output_type": "stream",
     "text": [
      "Library loaded. Total books: 6\n"
     ]
    }
   ],
   "source": [
    "import json\n",
    "\n",
    "# File to store library data\n",
    "FILE_NAME = \"library.json\"\n",
    "\n",
    "# Load library data from file\n",
    "def load_library():\n",
    "    try:\n",
    "        with open(FILE_NAME, \"r\") as f:\n",
    "            return json.load(f)\n",
    "    except FileNotFoundError:\n",
    "        return []\n",
    "\n",
    "# Save library data to file\n",
    "def save_library(library):\n",
    "    with open(FILE_NAME, \"w\") as f:\n",
    "        json.dump(library, f, indent=4)\n",
    "\n",
    "# Load library\n",
    "library = load_library()\n",
    "print(f\"Library loaded. Total books: {len(library)}\")\n"
   ]
  },
  {
   "cell_type": "code",
   "execution_count": 3,
   "id": "c1d1b094-8296-434d-8e04-8c8a047d2c69",
   "metadata": {},
   "outputs": [],
   "source": [
    "def add_book(library):\n",
    "    title = input(\"Enter book title: \")\n",
    "    author = input(\"Enter author name: \")\n",
    "    book_id = len(library) + 1\n",
    "    library.append({\"id\": book_id, \"title\": title, \"author\": author, \"issued\": False})\n",
    "    print(f\"Book '{title}' added successfully!\")\n",
    "\n",
    "# Example: Add a book\n",
    "# add_book(library)\n"
   ]
  },
  {
   "cell_type": "code",
   "execution_count": 52,
   "id": "a4f298df-a86b-4597-b686-e54770c588b5",
   "metadata": {},
   "outputs": [
    {
     "name": "stdin",
     "output_type": "stream",
     "text": [
      "Enter book title:  ARUNDATA\n",
      "Enter author name:  GURRAM JASHUA\n"
     ]
    },
    {
     "name": "stdout",
     "output_type": "stream",
     "text": [
      "Book 'ARUNDATA' added successfully!\n"
     ]
    }
   ],
   "source": [
    "add_book(library)"
   ]
  },
  {
   "cell_type": "code",
   "execution_count": 4,
   "id": "9c739c50-a195-43d2-b5b5-6d1c96d400f1",
   "metadata": {},
   "outputs": [],
   "source": [
    "def view_books(library):\n",
    "    print(f\"\\nTotal books in library: {len(library)}\\n\")\n",
    "    for book in library:\n",
    "        status = \"Issued\" if book[\"issued\"] else \"Available\"\n",
    "        print(f\"ID: {book['id']} | Title: {book['title']} | Author: {book['author']} | Status: {status}\")\n",
    "\n",
    "# Example: View books\n",
    "# view_books(library)\n"
   ]
  },
  {
   "cell_type": "code",
   "execution_count": 5,
   "id": "4a2a6b21-28f2-4553-881e-812110a9b865",
   "metadata": {},
   "outputs": [
    {
     "name": "stdout",
     "output_type": "stream",
     "text": [
      "\n",
      "Total books in library: 6\n",
      "\n",
      "ID: 1 | Title: VEYI PADAGALU | Author: VISWANATHA SATYANARAYANA | Status: Available\n",
      "ID: 2 | Title: MAHAPRASTHANAM | Author: SRI SRI | Status: Available\n",
      "ID: 3 | Title: MALAPALLI | Author: UNNAVA LAKSHMINARAYANA | Status: Available\n",
      "ID: 4 | Title: KANYASULKAM | Author: GURAJADA APPARAO | Status: Available\n",
      "ID: 5 | Title: MAA BHOOMI | Author: VISWANATHA SATYANARAYANA | Status: Available\n",
      "ID: 6 | Title: ARUNDATA | Author: GURRAM JASHUA | Status: Available\n"
     ]
    }
   ],
   "source": [
    "view_books(library)"
   ]
  },
  {
   "cell_type": "code",
   "execution_count": 6,
   "id": "b32e662d-c446-41e7-8d59-b230eb40e763",
   "metadata": {},
   "outputs": [],
   "source": [
    "def search_books(library):\n",
    "    keyword = input(\"Enter book title or author to search: \").lower()\n",
    "    found = [book for book in library if keyword in book[\"title\"].lower() or keyword in book[\"author\"].lower()]\n",
    "    if found:\n",
    "        print(\"\\nSearch Results:\")\n",
    "        for book in found:\n",
    "            status = \"Issued\" if book[\"issued\"] else \"Available\"\n",
    "            print(f\"ID: {book['id']} | Title: {book['title']} | Author: {book['author']} | Status: {status}\")\n",
    "    else:\n",
    "        print(\"No books found.\")\n",
    "\n",
    "# Example: Search books\n",
    "# search_books(library)\n"
   ]
  },
  {
   "cell_type": "code",
   "execution_count": 7,
   "id": "07db9fd4-c8e0-4d1a-be93-a1c84623c9b3",
   "metadata": {},
   "outputs": [
    {
     "name": "stdin",
     "output_type": "stream",
     "text": [
      "Enter book title or author to search:  sri sri\n"
     ]
    },
    {
     "name": "stdout",
     "output_type": "stream",
     "text": [
      "\n",
      "Search Results:\n",
      "ID: 2 | Title: MAHAPRASTHANAM | Author: SRI SRI | Status: Available\n"
     ]
    }
   ],
   "source": [
    "search_books(library)"
   ]
  },
  {
   "cell_type": "code",
   "execution_count": 59,
   "id": "f038784e-f39e-4935-90e9-8391f7200d4b",
   "metadata": {},
   "outputs": [],
   "source": [
    "def issue_book(library):\n",
    "    book_id = int(input(\"Enter book ID to issue: \"))\n",
    "    for book in library:\n",
    "        if book[\"id\"] == book_id:\n",
    "            if not book[\"issued\"]:\n",
    "                book[\"issued\"] = True\n",
    "                print(f\"Book '{book['title']}' issued successfully!\")\n",
    "            else:\n",
    "                print(\"Book is already issued.\")\n",
    "            return\n",
    "    print(\"Book ID not found.\")\n",
    "\n",
    "# Example: Issue a book\n",
    "# issue_book(library)\n"
   ]
  },
  {
   "cell_type": "code",
   "execution_count": 61,
   "id": "ff0510d9-7bf6-4717-bae5-5a54d34c970d",
   "metadata": {},
   "outputs": [
    {
     "name": "stdin",
     "output_type": "stream",
     "text": [
      "Enter book ID to issue:  6\n"
     ]
    },
    {
     "name": "stdout",
     "output_type": "stream",
     "text": [
      "Book 'ARUNDATA' issued successfully!\n"
     ]
    }
   ],
   "source": [
    "issue_book(library)"
   ]
  },
  {
   "cell_type": "code",
   "execution_count": 69,
   "id": "527e6349-37ac-4a21-a875-3b3c0bf06bd2",
   "metadata": {},
   "outputs": [],
   "source": [
    "def return_book(library):\n",
    "    book_id = int(input(\"Enter book ID to return: \"))\n",
    "    for book in library:\n",
    "        if book[\"id\"] == book_id:\n",
    "            if book[\"issued\"]:\n",
    "                book[\"issued\"] = False\n",
    "                print(f\"Book '{book['title']}' returned successfully!\")\n",
    "            else:\n",
    "                print(\"Book was not issued.\")\n",
    "            return\n",
    "    print(\"Book ID not found.\")\n",
    "\n",
    "# Example: Return a book\n",
    "# return_book(library)\n"
   ]
  },
  {
   "cell_type": "code",
   "execution_count": 70,
   "id": "d9bcc10a-55bd-42a2-8db3-d1cc04357026",
   "metadata": {},
   "outputs": [
    {
     "name": "stdin",
     "output_type": "stream",
     "text": [
      "Enter book ID to return:  6\n"
     ]
    },
    {
     "name": "stdout",
     "output_type": "stream",
     "text": [
      "Book was not issued.\n"
     ]
    }
   ],
   "source": [
    "return_book(library)"
   ]
  },
  {
   "cell_type": "code",
   "execution_count": 65,
   "id": "12e6d036-a287-4333-8385-bbf92b91a7c0",
   "metadata": {},
   "outputs": [
    {
     "name": "stdout",
     "output_type": "stream",
     "text": [
      "Library data saved successfully!\n"
     ]
    }
   ],
   "source": [
    "# Save library after making changes\n",
    "save_library(library)\n",
    "print(\"Library data saved successfully!\")\n"
   ]
  },
  {
   "cell_type": "code",
   "execution_count": 11,
   "id": "b3da6357-d689-44ed-b58d-2fd6c8093f18",
   "metadata": {},
   "outputs": [],
   "source": [
    "\n",
    "\n"
   ]
  },
  {
   "cell_type": "code",
   "execution_count": null,
   "id": "43ccdee6-b0b0-4a20-8d35-4e2bad893dc6",
   "metadata": {},
   "outputs": [],
   "source": []
  },
  {
   "cell_type": "code",
   "execution_count": null,
   "id": "c08745c9-ea39-4266-aeb7-0db997e45f00",
   "metadata": {},
   "outputs": [],
   "source": []
  },
  {
   "cell_type": "code",
   "execution_count": null,
   "id": "b8cbea28-ebef-4b7f-8d0f-773711d081f5",
   "metadata": {},
   "outputs": [],
   "source": []
  },
  {
   "cell_type": "code",
   "execution_count": null,
   "id": "1f90b9a2-147c-43b2-8f65-492c4022670b",
   "metadata": {},
   "outputs": [],
   "source": []
  },
  {
   "cell_type": "code",
   "execution_count": null,
   "id": "9c5dada4-372e-4afa-8794-88eee4da54cf",
   "metadata": {},
   "outputs": [],
   "source": []
  },
  {
   "cell_type": "code",
   "execution_count": null,
   "id": "ebc0b650-ba74-40ee-a7d7-6584fe2e6069",
   "metadata": {},
   "outputs": [],
   "source": []
  },
  {
   "cell_type": "code",
   "execution_count": null,
   "id": "b7ba1beb-b01e-408f-b78f-5fb590194d23",
   "metadata": {},
   "outputs": [],
   "source": []
  },
  {
   "cell_type": "code",
   "execution_count": null,
   "id": "f7b78af2-320d-4a01-b5f1-c2587234cee1",
   "metadata": {},
   "outputs": [],
   "source": []
  },
  {
   "cell_type": "code",
   "execution_count": null,
   "id": "44438e53-d206-4c46-a573-4a96e20bd09e",
   "metadata": {},
   "outputs": [],
   "source": []
  },
  {
   "cell_type": "code",
   "execution_count": null,
   "id": "810ce057-a02e-4323-932a-b5991aeb4da9",
   "metadata": {},
   "outputs": [],
   "source": []
  },
  {
   "cell_type": "code",
   "execution_count": null,
   "id": "8e0396b0-35c6-47f6-97d5-6f31f11ebac0",
   "metadata": {},
   "outputs": [],
   "source": []
  },
  {
   "cell_type": "code",
   "execution_count": null,
   "id": "3f177971-ca54-42c9-affc-104c2776c27b",
   "metadata": {},
   "outputs": [],
   "source": []
  },
  {
   "cell_type": "code",
   "execution_count": null,
   "id": "cb478f03-80dd-4cc2-b914-ce52945f30b2",
   "metadata": {},
   "outputs": [],
   "source": []
  },
  {
   "cell_type": "code",
   "execution_count": null,
   "id": "6a9e4144-545c-4733-a63c-c4ba254aef90",
   "metadata": {},
   "outputs": [],
   "source": []
  },
  {
   "cell_type": "code",
   "execution_count": null,
   "id": "fceade0d-5034-45a9-ac6e-1edbeda99ad5",
   "metadata": {},
   "outputs": [],
   "source": []
  },
  {
   "cell_type": "code",
   "execution_count": null,
   "id": "4cfbba5c-1c31-4cce-91a5-996e71b2fa0b",
   "metadata": {},
   "outputs": [],
   "source": []
  },
  {
   "cell_type": "code",
   "execution_count": null,
   "id": "e126bff0-59f9-4ecd-a9c6-7b87d9839c52",
   "metadata": {},
   "outputs": [],
   "source": []
  },
  {
   "cell_type": "code",
   "execution_count": null,
   "id": "c4c51041-621b-47de-979b-0626ae2ae14b",
   "metadata": {},
   "outputs": [],
   "source": []
  },
  {
   "cell_type": "code",
   "execution_count": null,
   "id": "55d32314-aa38-495b-91e4-428cd9667a6d",
   "metadata": {},
   "outputs": [],
   "source": []
  },
  {
   "cell_type": "code",
   "execution_count": null,
   "id": "58404e62-6459-4c3b-9efd-4e40b0e865ed",
   "metadata": {},
   "outputs": [],
   "source": []
  },
  {
   "cell_type": "code",
   "execution_count": null,
   "id": "ac8d8504-1d14-407a-876e-60a94e2b6732",
   "metadata": {},
   "outputs": [],
   "source": []
  }
 ],
 "metadata": {
  "kernelspec": {
   "display_name": "Python 3 (ipykernel)",
   "language": "python",
   "name": "python3"
  },
  "language_info": {
   "codemirror_mode": {
    "name": "ipython",
    "version": 3
   },
   "file_extension": ".py",
   "mimetype": "text/x-python",
   "name": "python",
   "nbconvert_exporter": "python",
   "pygments_lexer": "ipython3",
   "version": "3.12.4"
  }
 },
 "nbformat": 4,
 "nbformat_minor": 5
}
